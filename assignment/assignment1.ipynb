{
 "cells": [
  {
   "cell_type": "code",
   "execution_count": 6,
   "id": "a66fc58e",
   "metadata": {},
   "outputs": [
    {
     "name": "stdout",
     "output_type": "stream",
     "text": [
      "twinkel teinkel little start,\n",
      " \t how are wounder what you are,\n",
      " \t\t up above the world so high\n",
      "\t\tlike a daimod in the sky\n",
      " twinkel twinkel little star\n",
      " \thow are wounder what you are\n"
     ]
    }
   ],
   "source": [
    "print(\"twinkel teinkel little start,\\n \\t how are wounder what you are,\\n \\t\\t up above the world so high\\n\\t\\tlike a daimod in the sky\\n twinkel twinkel little star\\n \\thow are wounder what you are\")"
   ]
  },
  {
   "cell_type": "code",
   "execution_count": 9,
   "id": "1b2e59dd",
   "metadata": {},
   "outputs": [
    {
     "name": "stdout",
     "output_type": "stream",
     "text": [
      "3.9.7\n"
     ]
    }
   ],
   "source": [
    "from platform import python_version\n",
    "print(python_version())"
   ]
  },
  {
   "cell_type": "code",
   "execution_count": 12,
   "id": "12d1187a",
   "metadata": {},
   "outputs": [
    {
     "name": "stdout",
     "output_type": "stream",
     "text": [
      "02-01-22 10:30:43\n"
     ]
    }
   ],
   "source": [
    "import datetime \n",
    "now=datetime.datetime.now()\n",
    "print(now.strftime(\"%d-%m-%y %H:%M:%S\"))"
   ]
  },
  {
   "cell_type": "code",
   "execution_count": 14,
   "id": "006d01fa",
   "metadata": {},
   "outputs": [
    {
     "name": "stdout",
     "output_type": "stream",
     "text": [
      "enter a radius12\n",
      "452.448\n"
     ]
    }
   ],
   "source": [
    "r=float(input(\"enter a radius\")); area= r*r*3.142; print(area)"
   ]
  },
  {
   "cell_type": "code",
   "execution_count": 20,
   "id": "85aed445",
   "metadata": {},
   "outputs": [
    {
     "name": "stdout",
     "output_type": "stream",
     "text": [
      "first namesam\n",
      "second namejam\n",
      "the reverse order is : jam\tsam\n"
     ]
    }
   ],
   "source": [
    "F= input(\"first name\");W=input(\"second name\"); sp=\"\\t\" ;  print(\"the reverse order is :\",W+sp+F)"
   ]
  },
  {
   "cell_type": "code",
   "execution_count": 22,
   "id": "a049f707",
   "metadata": {},
   "outputs": [
    {
     "name": "stdout",
     "output_type": "stream",
     "text": [
      "enter a number4\n",
      "enter a number5\n",
      "9\n"
     ]
    }
   ],
   "source": [
    "A=int(input(\"enter a number\"));b=int(input(\"enter a number\"));print(A+b)"
   ]
  },
  {
   "cell_type": "code",
   "execution_count": null,
   "id": "5effecce",
   "metadata": {},
   "outputs": [],
   "source": []
  }
 ],
 "metadata": {
  "kernelspec": {
   "display_name": "Python 3 (ipykernel)",
   "language": "python",
   "name": "python3"
  },
  "language_info": {
   "codemirror_mode": {
    "name": "ipython",
    "version": 3
   },
   "file_extension": ".py",
   "mimetype": "text/x-python",
   "name": "python",
   "nbconvert_exporter": "python",
   "pygments_lexer": "ipython3",
   "version": "3.9.7"
  }
 },
 "nbformat": 4,
 "nbformat_minor": 5
}
